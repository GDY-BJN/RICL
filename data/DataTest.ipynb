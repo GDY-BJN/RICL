{
 "cells": [
  {
   "cell_type": "code",
   "execution_count": null,
   "metadata": {},
   "outputs": [],
   "source": [
    "# \n",
    "# 处理TREx数据集\n",
    "#\n",
    "\n",
    "import json\n",
    "\n",
    "\n",
    "with open('TREx.json', 'r') as r:\n",
    "    datas = json.load(r)\n",
    "\n",
    "    datas = datas[:10]\n",
    "sentences = []\n",
    "rel2id = {}\n",
    "id_count = 0\n",
    "i = 0\n",
    "\n",
    "# T-REx SPO\n",
    "for data in datas:\n",
    "    for triple in data['triples']:\n",
    "        i = i + 1\n",
    "        if triple['predicate']['surfaceform'] != None:\n",
    "            sentence = {}\n",
    "            # rel2id\n",
    "            rel = triple['predicate']['surfaceform']\n",
    "            if rel not in rel2id:\n",
    "                rel2id[rel] = id_count\n",
    "                id_count += 1\n",
    "            # text\n",
    "            sentence_start = data['sentences_boundaries'][triple['sentence_id']][0]\n",
    "            sentence_end = data['sentences_boundaries'][triple['sentence_id']][1]\n",
    "            sentence['sentence'] = data['text'][sentence_start:sentence_end]\n",
    "            # entitys\n",
    "            entity1_start = triple['object']['boundaries'][0] - sentence_start\n",
    "            entity1_end = triple['object']['boundaries'][1] - sentence_start\n",
    "            sentence['head'] = sentence['sentence'][entity1_start:entity1_end]\n",
    "            sentence['e1_begin'] = entity1_start\n",
    "            sentence['e1_end'] = entity1_end\n",
    "            entity2_start = triple['subject']['boundaries'][0] - sentence_start\n",
    "            entity2_end = triple['subject']['boundaries'][1] - sentence_start\n",
    "            sentence['tail'] = sentence['sentence'][entity2_start:entity2_end]\n",
    "            sentence['e2_begin'] = entity2_start\n",
    "            sentence['e2_end'] = entity2_end\n",
    "            # relid\n",
    "            sentence['relid'] = rel2id[rel]\n",
    "            sentences.append(sentence)"
   ]
  },
  {
   "cell_type": "code",
   "execution_count": null,
   "metadata": {},
   "outputs": [],
   "source": [
    "#\n",
    "# 测试各个数据集关系数量\n",
    "#\n",
    "\n",
    "import json\n",
    "\n",
    "path_files = ['fewrel/fewrel80_train_E.json','fewrel/fewrel80_test_E.json','fewrel/fewrel_val.json']\n",
    "\n",
    "for path_file in path_files:\n",
    "    with open(path_file, 'r') as r:\n",
    "        data = json.load(r)\n",
    "\n",
    "    relid_all = {}\n",
    "    count = 0\n",
    "\n",
    "    for i in range(len(data)):\n",
    "        relid = data[i]['relid']\n",
    "        if relid not in relid_all:\n",
    "            relid_all[relid] = count\n",
    "            count+=1\n",
    "\n",
    "    ret = max(relid_all, key=lambda x: x)\n",
    "    print(path_file +'的关系数量共有：', ret,'数据集大小：', len(data)) "
   ]
  },
  {
   "cell_type": "code",
   "execution_count": null,
   "metadata": {},
   "outputs": [],
   "source": [
    "#\n",
    "# 处理fewrel_val文件（需要完善）\n",
    "#\n",
    "\n",
    "import json\n",
    "\n",
    "\n",
    "with open('fewrel/fewrel_val.json', 'r') as r:\n",
    "    data = json.load(r)\n",
    "\n",
    "for rel in data.keys():\n",
    "    print(rel)"
   ]
  },
  {
   "cell_type": "code",
   "execution_count": null,
   "metadata": {},
   "outputs": [],
   "source": [
    "#\n",
    "# 修正E1(30522)和E2(30523)\n",
    "#"
   ]
  },
  {
   "cell_type": "code",
   "execution_count": 5,
   "metadata": {},
   "outputs": [
    {
     "data": {
      "text/plain": [
       "array([1, 1, 1, 0, 0, 0])"
      ]
     },
     "execution_count": 5,
     "metadata": {},
     "output_type": "execute_result"
    }
   ],
   "source": [
    "from sklearn.cluster import KMeans\n",
    "import numpy as np\n",
    "\n",
    "X = np.array([[1, 2], [1, 4], [1, 0], [10, 2], [10, 4], [10, 0]])\n",
    "kmeans = KMeans(n_clusters=2, random_state=0).fit(X)\n",
    "kmeans.labels_"
   ]
  }
 ],
 "metadata": {
  "kernelspec": {
   "display_name": "Python [conda env:tensorflow1.14]",
   "language": "python",
   "name": "conda-env-tensorflow1.14-py"
  },
  "language_info": {
   "codemirror_mode": {
    "name": "ipython",
    "version": 3
   },
   "file_extension": ".py",
   "mimetype": "text/x-python",
   "name": "python",
   "nbconvert_exporter": "python",
   "pygments_lexer": "ipython3",
   "version": "3.6.12"
  }
 },
 "nbformat": 4,
 "nbformat_minor": 5
}
